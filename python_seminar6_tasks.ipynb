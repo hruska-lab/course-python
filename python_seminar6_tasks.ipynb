{
  "nbformat": 4,
  "nbformat_minor": 0,
  "metadata": {
    "colab": {
      "provenance": [],
      "authorship_tag": "ABX9TyPAvwRdRhCcpZlkeNAganlo",
      "include_colab_link": true
    },
    "kernelspec": {
      "name": "python3",
      "display_name": "Python 3"
    },
    "language_info": {
      "name": "python"
    }
  },
  "cells": [
    {
      "cell_type": "markdown",
      "metadata": {
        "id": "view-in-github",
        "colab_type": "text"
      },
      "source": [
        "<a href=\"https://colab.research.google.com/github/hruska-lab/course-python/blob/main/python_seminar6_tasks.ipynb\" target=\"_parent\"><img src=\"https://colab.research.google.com/assets/colab-badge.svg\" alt=\"Open In Colab\"/></a>"
      ]
    },
    {
      "cell_type": "markdown",
      "source": [
        "# Linear regression with scipy"
      ],
      "metadata": {
        "id": "TbPqnvspT_Ox"
      }
    },
    {
      "cell_type": "code",
      "execution_count": null,
      "metadata": {
        "id": "W-30qCVzT8ba"
      },
      "outputs": [],
      "source": [
        "import numpy as np\n",
        "import matplotlib.pyplot as plt"
      ]
    },
    {
      "cell_type": "code",
      "source": [
        "#experimental data\n",
        "x=np.array([1,2,3,4,5,6,7,8])\n",
        "y=np.array([3.4,3.1,4.2,4.2,5.8,6.1,6.3,5.9])"
      ],
      "metadata": {
        "id": "VNupuSM3UFUW"
      },
      "execution_count": null,
      "outputs": []
    },
    {
      "cell_type": "code",
      "source": [
        "plt.plot(x, y, 'o', label='original data')"
      ],
      "metadata": {
        "id": "m5xm6v-CUSZw"
      },
      "execution_count": null,
      "outputs": []
    },
    {
      "cell_type": "markdown",
      "source": [
        "#use function scipy.stats.linregress"
      ],
      "metadata": {
        "id": "em1j2ebDUzoF"
      }
    },
    {
      "cell_type": "code",
      "source": [
        "from scipy import stats"
      ],
      "metadata": {
        "id": "AYSqKIUoU60M"
      },
      "execution_count": null,
      "outputs": []
    },
    {
      "cell_type": "code",
      "source": [
        "#..."
      ],
      "metadata": {
        "id": "7lCyy75UvCyn"
      },
      "execution_count": null,
      "outputs": []
    },
    {
      "cell_type": "markdown",
      "source": [],
      "metadata": {
        "id": "2O2RDw3kvCEZ"
      }
    },
    {
      "cell_type": "code",
      "source": [
        "print(f\"intercept {res.intercept:.2f}\")"
      ],
      "metadata": {
        "id": "WAx9JrmmUvuX"
      },
      "execution_count": null,
      "outputs": []
    },
    {
      "cell_type": "code",
      "source": [
        "print(f\"intercept {res.slope:.2f}\")"
      ],
      "metadata": {
        "id": "id2IKdR7VZQ4"
      },
      "execution_count": null,
      "outputs": []
    },
    {
      "cell_type": "code",
      "source": [
        "print(f\"R-squared: {res.rvalue**2:.4f}\")"
      ],
      "metadata": {
        "id": "V_Xrh3xkVDBL"
      },
      "execution_count": null,
      "outputs": []
    },
    {
      "cell_type": "markdown",
      "source": [
        "# plot fitted line"
      ],
      "metadata": {
        "id": "fW-48KzxVdPo"
      }
    },
    {
      "cell_type": "code",
      "source": [
        "plt.plot(x, y, 'o', label='original data')\n",
        "#plt.plot(x, ...., 'r', label='fitted line')\n",
        "plt.legend()"
      ],
      "metadata": {
        "id": "QRLWtreEVcZt"
      },
      "execution_count": null,
      "outputs": []
    },
    {
      "cell_type": "markdown",
      "source": [
        "# confidence interval with pingouin\n",
        "https://pingouin-stats.org/build/html/generated/pingouin.linear_regression.html#pingouin.linear_regression\n",
        "need to install,\n",
        "get CI for alpha 0.01"
      ],
      "metadata": {
        "id": "sUkegDzBZA92"
      }
    },
    {
      "cell_type": "code",
      "source": [
        "!pip install pingouin"
      ],
      "metadata": {
        "id": "3tQhH8pBZFCE"
      },
      "execution_count": null,
      "outputs": []
    },
    {
      "cell_type": "code",
      "source": [
        "import pingouin"
      ],
      "metadata": {
        "id": "lPaxmAOhVkRX"
      },
      "execution_count": null,
      "outputs": []
    },
    {
      "cell_type": "code",
      "source": [
        "#..."
      ],
      "metadata": {
        "id": "ggYviQ-eZRfW"
      },
      "execution_count": null,
      "outputs": []
    },
    {
      "cell_type": "code",
      "source": [
        "lm"
      ],
      "metadata": {
        "id": "FdQ9NdOjZLFW"
      },
      "execution_count": null,
      "outputs": []
    },
    {
      "cell_type": "code",
      "source": [
        "lm['CI[0.5%]']"
      ],
      "metadata": {
        "id": "t_wGcj2xZ_jl"
      },
      "execution_count": null,
      "outputs": []
    },
    {
      "cell_type": "code",
      "source": [
        "slope_ci1=lm['CI[0.5%]'][0]\n",
        "slope_ci2=lm['CI[99.5%]'][0]"
      ],
      "metadata": {
        "id": "JNmRNfeuaU_Q"
      },
      "execution_count": null,
      "outputs": []
    },
    {
      "cell_type": "code",
      "source": [
        "print(\"confidence interval of intercept at 99% is confidence: \", np.round(slope_ci1,2), \"to\", np.round(slope_ci2,2))"
      ],
      "metadata": {
        "id": "Pp0Vuw8QZtU0"
      },
      "execution_count": null,
      "outputs": []
    },
    {
      "cell_type": "markdown",
      "source": [
        "# fit non-linear curve\n",
        "example chemical kinetics of 0th order\n",
        "theoretical equation c=c0*exp(-r*t) with r unknown"
      ],
      "metadata": {
        "id": "94obUwZKVsI6"
      }
    },
    {
      "cell_type": "code",
      "source": [
        "#data\n",
        "tdata=np.array([0. ,  0.5,  1. ,  1.5,  2. ,  2.5,  3. ,  3.5,  4. ,  4.5,  5. , 5.5,  6. ,  6.5,  7. ,  7.5,  8. ,  8.5,  9. ,  9.5, 10.])\n",
        "cdata=np.array([0.422,  0.224,  0.2  ,  0.189,  0.083,  0.079,  0.07 ,  0.054,\n",
        "        0.041,  0.023,  0.026,  0.006,  0.011,  0.009,  0.011,  0.007,\n",
        "       0,  0.017, 0, 0, 0])"
      ],
      "metadata": {
        "id": "Lg5E-XIKVbkP"
      },
      "execution_count": null,
      "outputs": []
    },
    {
      "cell_type": "code",
      "source": [
        "plt.plot(tdata, cdata, 'o', label='exp. data')"
      ],
      "metadata": {
        "id": "TIKsu24yWuRj"
      },
      "execution_count": null,
      "outputs": []
    },
    {
      "cell_type": "markdown",
      "source": [
        "## use curvefit from scipy\n",
        "https://docs.scipy.org/doc/scipy/reference/generated/scipy.optimize.curve_fit.html"
      ],
      "metadata": {
        "id": "t2aaWlHRXXfc"
      }
    },
    {
      "cell_type": "code",
      "source": [
        "from scipy.optimize import curve_fit"
      ],
      "metadata": {
        "id": "ODL2Aeh7XUd7"
      },
      "execution_count": null,
      "outputs": []
    },
    {
      "cell_type": "markdown",
      "source": [
        "define function for curve with unknown parameters"
      ],
      "metadata": {
        "id": "e7VVgZSPXjkS"
      }
    },
    {
      "cell_type": "code",
      "source": [
        "#..."
      ],
      "metadata": {
        "id": "oaXWQbJMXiyp"
      },
      "execution_count": null,
      "outputs": []
    },
    {
      "cell_type": "code",
      "source": [
        "# apply curve fit"
      ],
      "metadata": {
        "id": "ZerJT-sIXykW"
      },
      "execution_count": null,
      "outputs": []
    },
    {
      "cell_type": "code",
      "source": [
        "popt"
      ],
      "metadata": {
        "id": "5xeD79hXX9qK"
      },
      "execution_count": null,
      "outputs": []
    },
    {
      "cell_type": "code",
      "source": [
        "plt.plot(tdata, cdata, 'o', label='exp. data')\n",
        "plt.plot(tdata, func(tdata, *popt), 'r-',\n",
        "         label='fit: r=%5.3f, c0=%5.3f' % tuple(popt))\n",
        "plt.legend()"
      ],
      "metadata": {
        "id": "s-jfayCeYCzw"
      },
      "execution_count": null,
      "outputs": []
    },
    {
      "cell_type": "markdown",
      "source": [
        "# machine learning\n",
        "examples pretrained\n",
        "* AlphaFold: [AlphaFold colab](https://colab.research.google.com/drive/1UotLkHXIBLd_jkuv-l8jI-xnFvyCCDto)\n",
        "* example DiffDock: [DiffDock colab](https://colab.research.google.com/github/hgbrian/biocolabs/blob/master/DiffDock.ipynb)\n",
        "\n",
        "\n",
        "different philosophy:\n",
        "* divide data set into training and test\n",
        "* important make sure no data leakage from training to test, use test only at end, otherwise overtrained\n",
        "* use a loss function to pick best model: mean squared error, accuracy, ...\n"
      ],
      "metadata": {
        "id": "pa2vIFI1a5fw"
      }
    },
    {
      "cell_type": "code",
      "source": [
        "from sklearn import datasets\n",
        "X, y = datasets.load_iris(return_X_y=True, )\n",
        "X.shape, y.shape"
      ],
      "metadata": {
        "id": "pSpnNpdgfvTx"
      },
      "execution_count": null,
      "outputs": []
    },
    {
      "cell_type": "code",
      "source": [
        "plt.scatter(X[:, 0], X[:, 1], c=y)"
      ],
      "metadata": {
        "id": "F30XWiPzlgfc"
      },
      "execution_count": null,
      "outputs": []
    },
    {
      "cell_type": "markdown",
      "source": [
        "split into train (70%) and test (30%)\n",
        "* for molecules scaffold sometimes better than random"
      ],
      "metadata": {
        "id": "F37e25TnkYGh"
      }
    },
    {
      "cell_type": "code",
      "source": [
        "from sklearn.model_selection import train_test_split\n",
        "X_train, X_test, y_train, y_test = train_test_split(X, y, test_size=0.3)"
      ],
      "metadata": {
        "id": "HYY5J0GxkLag"
      },
      "execution_count": null,
      "outputs": []
    },
    {
      "cell_type": "markdown",
      "source": [
        "Random forest\n",
        "https://scikit-learn.org/stable/modules/generated/sklearn.ensemble.RandomForestClassifier.html#sklearn.ensemble.RandomForestClassifier"
      ],
      "metadata": {
        "id": "ArP07KaYkvMo"
      }
    },
    {
      "cell_type": "code",
      "source": [
        "from sklearn.ensemble import RandomForestClassifier\n",
        "#define and fit Random Forest classifier\n",
        "score = clf.score(X_test, y_test)"
      ],
      "metadata": {
        "id": "CBu9rK0EkVYR"
      },
      "execution_count": null,
      "outputs": []
    },
    {
      "cell_type": "code",
      "source": [
        "#predict y_test values from X_test\n",
        "y_test_predict"
      ],
      "metadata": {
        "id": "oKsk8jc0l3Vp"
      },
      "execution_count": null,
      "outputs": []
    },
    {
      "cell_type": "code",
      "source": [
        "y_test_predict.shape"
      ],
      "metadata": {
        "id": "nZZm-EhKmcUA"
      },
      "execution_count": null,
      "outputs": []
    },
    {
      "cell_type": "code",
      "source": [
        "plt.scatter(X_test[:, 0], X_test[:, 1], c=y_test, label='true')\n",
        "plt.scatter(X_test[:, 0], X_test[:, 1], c=y_test_predict, s=6, label='predict')\n",
        "plt.legend()"
      ],
      "metadata": {
        "id": "zyVSI9NXlTVH"
      },
      "execution_count": null,
      "outputs": []
    },
    {
      "cell_type": "markdown",
      "source": [
        "# Example Therapeutics Data Commons https://tdcommons.ai/ Caco-2 dataset"
      ],
      "metadata": {
        "id": "LH9AVgq8d61c"
      }
    },
    {
      "cell_type": "code",
      "source": [
        "! pip install PyTDC\n",
        "! pip install DeepPurpose\n",
        "! pip install git+https://github.com/bp-kelley/descriptastorus"
      ],
      "metadata": {
        "id": "Xc_XJWo5eQgG"
      },
      "execution_count": null,
      "outputs": []
    },
    {
      "cell_type": "code",
      "source": [
        "from tdc.single_pred import ADME\n",
        "data = ADME(name = 'Caco2_Wang').get_data(format = 'dict')\n",
        "X, y = data['Drug'], data['Y']"
      ],
      "metadata": {
        "id": "o3JMHkpfdFQX"
      },
      "execution_count": null,
      "outputs": []
    },
    {
      "cell_type": "code",
      "source": [
        "X[:5]"
      ],
      "metadata": {
        "id": "TohS2V3BqzZc"
      },
      "execution_count": null,
      "outputs": []
    },
    {
      "cell_type": "code",
      "source": [
        "y[:5]"
      ],
      "metadata": {
        "id": "9dYSxUyzrOgZ"
      },
      "execution_count": null,
      "outputs": []
    },
    {
      "cell_type": "code",
      "source": [
        "from DeepPurpose import utils, CompoundPred\n",
        "drug_encoding='MPNN'\n",
        "train, val, test = utils.data_process(X_drug = X,\n",
        "                                      y = y,\n",
        "                                      drug_encoding = drug_encoding,\n",
        "                                      random_seed = 'TDC')"
      ],
      "metadata": {
        "id": "AZ8FjQidcKQd"
      },
      "execution_count": null,
      "outputs": []
    },
    {
      "cell_type": "code",
      "source": [
        "config = utils.generate_config(drug_encoding = drug_encoding,\n",
        "                         train_epoch = 3,\n",
        "                         LR = 0.001,\n",
        "                         batch_size = 128,\n",
        "                         mpnn_hidden_size = 32,\n",
        "                         mpnn_depth = 2\n",
        "                        )\n",
        "model = CompoundPred.model_initialize(**config)"
      ],
      "metadata": {
        "id": "ogX6Vddnrcms"
      },
      "execution_count": null,
      "outputs": []
    },
    {
      "cell_type": "code",
      "source": [
        "# Training\n",
        "model.train(train, val, test)"
      ],
      "metadata": {
        "id": "Ooj0O9usba2f"
      },
      "execution_count": null,
      "outputs": []
    },
    {
      "cell_type": "code",
      "source": [
        "model.predict(test)[:10]"
      ],
      "metadata": {
        "id": "Yfwzo3XLsAk8"
      },
      "execution_count": null,
      "outputs": []
    }
  ]
}