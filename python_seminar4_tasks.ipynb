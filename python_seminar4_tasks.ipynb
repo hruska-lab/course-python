{
  "nbformat": 4,
  "nbformat_minor": 0,
  "metadata": {
    "colab": {
      "provenance": [],
      "authorship_tag": "ABX9TyPZtDS5//DLJ+J1uS/Qjy16",
      "include_colab_link": true
    },
    "kernelspec": {
      "name": "python3",
      "display_name": "Python 3"
    },
    "language_info": {
      "name": "python"
    }
  },
  "cells": [
    {
      "cell_type": "markdown",
      "metadata": {
        "id": "view-in-github",
        "colab_type": "text"
      },
      "source": [
        "<a href=\"https://colab.research.google.com/github/hruska-lab/course-python/blob/main/python_seminar4_tasks.ipynb\" target=\"_parent\"><img src=\"https://colab.research.google.com/assets/colab-badge.svg\" alt=\"Open In Colab\"/></a>"
      ]
    },
    {
      "cell_type": "markdown",
      "source": [
        "# Hierarchical clustering"
      ],
      "metadata": {
        "id": "zjHzyML8Y9_-"
      }
    },
    {
      "cell_type": "markdown",
      "source": [
        "* import matplotlib, numpy\n",
        "\n"
      ],
      "metadata": {
        "id": "QifTAono18h1"
      }
    },
    {
      "cell_type": "code",
      "source": [
        "import matplotlib.pyplot as plt\n",
        "import numpy as np"
      ],
      "metadata": {
        "id": "vg3oYvcEZDxn"
      },
      "execution_count": null,
      "outputs": []
    },
    {
      "cell_type": "markdown",
      "source": [
        "* load following data to be analysed"
      ],
      "metadata": {
        "id": "TmvucnbH20yy"
      }
    },
    {
      "cell_type": "code",
      "source": [
        "labels_genes=['gene A', 'gene B', 'gene C', 'gene D', 'gene E', 'gene F', 'gene G', 'gene H']\n",
        "labels_conditions=['1% Ethanol', '31 °C', '1mM inhibitor', '5mM inhibitor', 'activator']"
      ],
      "metadata": {
        "id": "hya_L28mZHGV"
      },
      "execution_count": null,
      "outputs": []
    },
    {
      "cell_type": "code",
      "source": [
        "#normalized to reference condition\n",
        "data=np.array([[0.29, 0.2 , 0.25, 0.17, 0.19, 0.15, 0.13, 0.12],\n",
        "       [2.43, 2.87, 1.61, 2.05, 1.23, 1.16, 2.25, 2.41],\n",
        "       [2.4 , 2.69, 1.56, 1.9 , 1.15, 1.15, 2.22, 2.28],\n",
        "       [1.99, 2.34, 1.2 , 1.69, 0.07, 0.93, 1.11, 0.95],\n",
        "       [2.81, 3.43, 1.81, 2.3 , 1.53, 2.04, 3.12, 3.25]])"
      ],
      "metadata": {
        "id": "HXZfBk5C0Hs2"
      },
      "execution_count": null,
      "outputs": []
    },
    {
      "cell_type": "markdown",
      "source": [
        "# hierarchical clustering simple https://seaborn.pydata.org/examples/structured_heatmap.html\n",
        "* import seaborn, run clustermap"
      ],
      "metadata": {
        "id": "dSroi2VWOItJ"
      }
    },
    {
      "cell_type": "code",
      "source": [],
      "metadata": {
        "id": "eoWlnjozPOYx"
      },
      "execution_count": null,
      "outputs": []
    },
    {
      "cell_type": "markdown",
      "source": [
        "# create standalone heatmap\n",
        "* https://matplotlib.org/stable/users/explain/artists/imshow_extent.html\n",
        "![sphx_glr_imshow_extent_001.png](data:image/png;base64,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)"
      ],
      "metadata": {
        "id": "JJBLiyIz5XWk"
      }
    },
    {
      "cell_type": "markdown",
      "source": [
        "# add x and y labels, add colorbar with label 'normalized gene expression'\n",
        "\n",
        "---\n",
        "\n"
      ],
      "metadata": {
        "id": "bs_L3kVq55GZ"
      }
    },
    {
      "cell_type": "code",
      "source": [],
      "metadata": {
        "id": "4IAyxKJuRh0Z"
      },
      "execution_count": null,
      "outputs": []
    },
    {
      "cell_type": "markdown",
      "source": [
        "# change colormap to blue-red\n",
        "* https://matplotlib.org/stable/gallery/color/colormap_reference.html#sphx-glr-gallery-color-colormap-reference-py\n",
        "\n"
      ],
      "metadata": {
        "id": "63jadig_6dIe"
      }
    },
    {
      "cell_type": "code",
      "source": [],
      "metadata": {
        "id": "j8sTHZHJ6YkK"
      },
      "execution_count": null,
      "outputs": []
    },
    {
      "cell_type": "markdown",
      "source": [
        "# set color value 1.0 to white\n",
        "\n",
        "* https://matplotlib.org/stable/users/explain/colors/colorbar_only.html#sphx-glr-users-explain-colors-colorbar-only-py\n",
        "* https://matplotlib.org/stable/api/_as_gen/matplotlib.colors.TwoSlopeNorm.html#matplotlib.colors.TwoSlopeNorm"
      ],
      "metadata": {
        "id": "BjxpliPS7fHU"
      }
    },
    {
      "cell_type": "code",
      "source": [],
      "metadata": {
        "id": "-g-Rhic0RhPN"
      },
      "execution_count": null,
      "outputs": []
    },
    {
      "cell_type": "markdown",
      "source": [
        "# put xlabels to bottom (45 degree rotated)"
      ],
      "metadata": {
        "id": "AyCC1VuA8Chf"
      }
    },
    {
      "cell_type": "code",
      "source": [],
      "metadata": {
        "id": "36yqF4KwRg8_"
      },
      "execution_count": null,
      "outputs": []
    },
    {
      "cell_type": "markdown",
      "source": [
        "# set fonts with rcParams\n",
        "* https://matplotlib.org/stable/users/explain/customizing.html"
      ],
      "metadata": {
        "id": "-RvoKe0R-G5o"
      }
    },
    {
      "cell_type": "code",
      "source": [],
      "metadata": {
        "id": "VL9UCH1sRgkx"
      },
      "execution_count": null,
      "outputs": []
    },
    {
      "cell_type": "markdown",
      "source": [
        "# save figure, correct layout, make colorbar smaller\n",
        "* https://matplotlib.org/stable/api/figure_api.html#matplotlib.figure.Figure.add_axes\n",
        "* tuple is [left, bottom, width, height] for fractions of figure width and height."
      ],
      "metadata": {
        "id": "Dr_bymg8_jEB"
      }
    },
    {
      "cell_type": "code",
      "source": [],
      "metadata": {
        "id": "V8vTc3cIRgOo"
      },
      "execution_count": null,
      "outputs": []
    },
    {
      "cell_type": "markdown",
      "source": [
        "# hierarchical clustering\n",
        "* import scipy hierarchical clustering\n",
        "* https://docs.scipy.org/doc/scipy/reference/generated/scipy.cluster.hierarchy.linkage.html#scipy.cluster.hierarchy.linkage"
      ],
      "metadata": {
        "id": "jCqsgmVvBMxC"
      }
    },
    {
      "cell_type": "code",
      "source": [],
      "metadata": {
        "id": "eqSXYe2kCM21"
      },
      "execution_count": null,
      "outputs": []
    },
    {
      "cell_type": "markdown",
      "source": [
        "# rotate hierarchical clustering of condition so it fits to y axis\n",
        "* change color to black"
      ],
      "metadata": {
        "id": "_hJzlGZRCYlf"
      }
    },
    {
      "cell_type": "code",
      "source": [],
      "metadata": {
        "id": "6E4zwWNQCRoq"
      },
      "execution_count": null,
      "outputs": []
    },
    {
      "cell_type": "markdown",
      "source": [
        "# create  empty boxes for hierarchical clustering x and y next to previous boxes of heatmap and colorbar\n",
        "\n"
      ],
      "metadata": {
        "id": "KQAlzOqm2jWO"
      }
    },
    {
      "cell_type": "code",
      "source": [],
      "metadata": {
        "id": "24_MphoiSEuH"
      },
      "execution_count": null,
      "outputs": []
    },
    {
      "cell_type": "markdown",
      "source": [
        "# insert both hierarchical clusterings\n",
        "* remove frames around clustering in add_axes frame_on=False\n",
        "* remove clustering axes set_ticks([])\n"
      ],
      "metadata": {
        "id": "A7ZGHVH2DvQe"
      }
    },
    {
      "cell_type": "code",
      "source": [],
      "metadata": {
        "id": "T0VVRcHiRfUK"
      },
      "execution_count": null,
      "outputs": []
    },
    {
      "cell_type": "markdown",
      "source": [
        "# insert heatmap, colorbar\n",
        "* move y label of heatmap to right\n",
        "* notice labels don't match hierarchical clustering"
      ],
      "metadata": {
        "id": "_-oQfyo0DTZA"
      }
    },
    {
      "cell_type": "code",
      "source": [],
      "metadata": {
        "id": "LPtbzLlNGLMj"
      },
      "execution_count": null,
      "outputs": []
    },
    {
      "cell_type": "markdown",
      "source": [
        "# change order of heatmap labels to match hierarchical clustering\n",
        "* reordering is given by Z2['leaves']\n",
        "* save as hierarchical-clustering.pdf, download\n",
        "\n"
      ],
      "metadata": {
        "id": "jFuUOWlsGLXp"
      }
    },
    {
      "cell_type": "code",
      "source": [],
      "metadata": {
        "id": "riPukJ2v2Iiy"
      },
      "execution_count": null,
      "outputs": []
    }
  ]
}