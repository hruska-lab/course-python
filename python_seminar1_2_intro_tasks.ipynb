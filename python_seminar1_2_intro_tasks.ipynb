{
  "nbformat": 4,
  "nbformat_minor": 0,
  "metadata": {
    "colab": {
      "provenance": [],
      "authorship_tag": "ABX9TyPMHAYt1cCJCbGJrOgEJwZA",
      "include_colab_link": true
    },
    "kernelspec": {
      "name": "python3",
      "display_name": "Python 3"
    },
    "language_info": {
      "name": "python"
    }
  },
  "cells": [
    {
      "cell_type": "markdown",
      "metadata": {
        "id": "view-in-github",
        "colab_type": "text"
      },
      "source": [
        "<a href=\"https://colab.research.google.com/github/hruska-lab/course-python/blob/main/python_seminar1_2_intro_tasks.ipynb\" target=\"_parent\"><img src=\"https://colab.research.google.com/assets/colab-badge.svg\" alt=\"Open In Colab\"/></a>"
      ]
    },
    {
      "cell_type": "markdown",
      "source": [
        "definition of a variable"
      ],
      "metadata": {
        "id": "XPnKw-KQXj5j"
      }
    },
    {
      "cell_type": "code",
      "execution_count": null,
      "metadata": {
        "id": "EIaB5buAIQs7"
      },
      "outputs": [],
      "source": [
        "a=1.5"
      ]
    },
    {
      "cell_type": "markdown",
      "source": [
        "Print value of a variable"
      ],
      "metadata": {
        "id": "G8UAgIM1Xp7L"
      }
    },
    {
      "cell_type": "code",
      "source": [
        "print(a)"
      ],
      "metadata": {
        "id": "_-KhwgtQIaBA"
      },
      "execution_count": null,
      "outputs": []
    },
    {
      "cell_type": "markdown",
      "source": [
        "Can print strings within \" \""
      ],
      "metadata": {
        "id": "TzoOhDFnYCaw"
      }
    },
    {
      "cell_type": "code",
      "source": [
        "print(\"Variable is\", a)"
      ],
      "metadata": {
        "id": "X0_QfOUGX_JG"
      },
      "execution_count": null,
      "outputs": []
    },
    {
      "cell_type": "markdown",
      "source": [
        "list of data defined as a list"
      ],
      "metadata": {
        "id": "l9L1Hv_YXvAf"
      }
    },
    {
      "cell_type": "code",
      "source": [
        "data=[1,2,3,4]"
      ],
      "metadata": {
        "id": "4lyCE4vgIx9D"
      },
      "execution_count": null,
      "outputs": []
    },
    {
      "cell_type": "markdown",
      "source": [
        "Variable names can be whatever but without spaces.\n",
        "Numbers in english notation 1.2 (not 1,2)"
      ],
      "metadata": {
        "id": "W3FalTSAZzDq"
      }
    },
    {
      "cell_type": "code",
      "source": [
        "data_experiment=[3.2,1.25, 5.0, 4.2]"
      ],
      "metadata": {
        "id": "_eEabH0-Zu7L"
      },
      "execution_count": null,
      "outputs": []
    },
    {
      "cell_type": "markdown",
      "source": [
        "access one element of the list"
      ],
      "metadata": {
        "id": "5zqHMPRlX1Az"
      }
    },
    {
      "cell_type": "code",
      "source": [
        "data[2]"
      ],
      "metadata": {
        "id": "8XSPvtIYX0OY"
      },
      "execution_count": null,
      "outputs": []
    },
    {
      "cell_type": "markdown",
      "source": [
        "To process data use package numpy, first import:"
      ],
      "metadata": {
        "id": "N4HwtcRuYHDy"
      }
    },
    {
      "cell_type": "code",
      "source": [
        "import numpy"
      ],
      "metadata": {
        "id": "SbZ5VbjgSs-F"
      },
      "execution_count": null,
      "outputs": []
    },
    {
      "cell_type": "markdown",
      "source": [
        "Each numpy function is in form: numpy.functionname(parameters)"
      ],
      "metadata": {
        "id": "vD19sQQTYRyC"
      }
    },
    {
      "cell_type": "code",
      "source": [
        "numpy.average(data)"
      ],
      "metadata": {
        "id": "YWsQ01vcFlSq",
        "colab": {
          "base_uri": "https://localhost:8080/",
          "height": 177
        },
        "outputId": "4b18a2c9-0622-49f1-9d90-49bdc7e36c04"
      },
      "execution_count": null,
      "outputs": [
        {
          "output_type": "error",
          "ename": "NameError",
          "evalue": "ignored",
          "traceback": [
            "\u001b[0;31m---------------------------------------------------------------------------\u001b[0m",
            "\u001b[0;31mNameError\u001b[0m                                 Traceback (most recent call last)",
            "\u001b[0;32m<ipython-input-2-67f038c57c79>\u001b[0m in \u001b[0;36m<cell line: 1>\u001b[0;34m()\u001b[0m\n\u001b[0;32m----> 1\u001b[0;31m \u001b[0mnumpy\u001b[0m\u001b[0;34m.\u001b[0m\u001b[0maverage\u001b[0m\u001b[0;34m(\u001b[0m\u001b[0mdata\u001b[0m\u001b[0;34m)\u001b[0m\u001b[0;34m\u001b[0m\u001b[0;34m\u001b[0m\u001b[0m\n\u001b[0m",
            "\u001b[0;31mNameError\u001b[0m: name 'data' is not defined"
          ]
        }
      ]
    },
    {
      "cell_type": "markdown",
      "source": [
        "This function  parameters (most not necessary) is described under https://numpy.org/doc/stable/reference/generated/numpy.average.html"
      ],
      "metadata": {
        "id": "OR3dqBE6YZnD"
      }
    },
    {
      "cell_type": "markdown",
      "source": [
        "There are many functions, no need to remember most of them. Example for standard deviation https://numpy.org/doc/stable/reference/generated/numpy.std.html"
      ],
      "metadata": {
        "id": "hEqXS2W8YgcJ"
      }
    },
    {
      "cell_type": "code",
      "source": [
        "numpy.std(data)"
      ],
      "metadata": {
        "id": "8Xsts-erYf1D"
      },
      "execution_count": null,
      "outputs": []
    },
    {
      "cell_type": "markdown",
      "source": [
        "Other functions: numpy.exp for exponential of each element of list"
      ],
      "metadata": {
        "id": "K7UZPZQGY71p"
      }
    },
    {
      "cell_type": "code",
      "source": [
        "numpy.exp(data)"
      ],
      "metadata": {
        "id": "mGcEMZA6Y7Bx"
      },
      "execution_count": null,
      "outputs": []
    },
    {
      "cell_type": "markdown",
      "source": [
        "output of any function can be saved as new variable, it wont print anything but can be used in next steps"
      ],
      "metadata": {
        "id": "F-L4LlN8eVSR"
      }
    },
    {
      "cell_type": "code",
      "source": [
        "b=numpy.exp(data)"
      ],
      "metadata": {
        "id": "oNgBOX3hect-"
      },
      "execution_count": null,
      "outputs": []
    },
    {
      "cell_type": "code",
      "source": [
        "print(\"output\", b)"
      ],
      "metadata": {
        "id": "4XwGc_8RegsW"
      },
      "execution_count": null,
      "outputs": []
    },
    {
      "cell_type": "code",
      "source": [],
      "metadata": {
        "id": "IbsswrjXeUnH"
      },
      "execution_count": null,
      "outputs": []
    },
    {
      "cell_type": "markdown",
      "source": [
        "# for loop\n",
        "repeat commands with different parameters"
      ],
      "metadata": {
        "id": "aPmEDSz_GwgU"
      }
    },
    {
      "cell_type": "code",
      "source": [
        "for i in range(10):\n",
        "  print(i, i**2)"
      ],
      "metadata": {
        "id": "c8xZVmjpZtd7",
        "colab": {
          "base_uri": "https://localhost:8080/"
        },
        "outputId": "c2c1a8f5-9272-4adb-b196-379faa005a64"
      },
      "execution_count": null,
      "outputs": [
        {
          "output_type": "stream",
          "name": "stdout",
          "text": [
            "0 0\n",
            "1 1\n",
            "2 4\n",
            "3 9\n",
            "4 16\n",
            "5 25\n",
            "6 36\n",
            "7 49\n",
            "8 64\n",
            "9 81\n"
          ]
        }
      ]
    },
    {
      "cell_type": "code",
      "source": [
        "for i in range(10):\n",
        "  valuei=numpy.exp(i)\n",
        "  print(i, valuei)"
      ],
      "metadata": {
        "id": "tWljNymlGu4z",
        "colab": {
          "base_uri": "https://localhost:8080/"
        },
        "outputId": "1e7aeefc-baf5-4e4c-f9c5-f9382f4fe99f"
      },
      "execution_count": null,
      "outputs": [
        {
          "output_type": "stream",
          "name": "stdout",
          "text": [
            "0 1.0\n",
            "1 2.718281828459045\n",
            "2 7.38905609893065\n",
            "3 20.085536923187668\n",
            "4 54.598150033144236\n",
            "5 148.4131591025766\n",
            "6 403.4287934927351\n",
            "7 1096.6331584284585\n",
            "8 2980.9579870417283\n",
            "9 8103.083927575384\n"
          ]
        }
      ]
    },
    {
      "cell_type": "markdown",
      "source": [
        "# if statement\n",
        "commands inside if happen only if condition behind \"if\" is True\n",
        "condition examples\n",
        "* i>5\n",
        "* function(i)==3"
      ],
      "metadata": {
        "id": "JDSXpX5QBTYP"
      }
    },
    {
      "cell_type": "code",
      "source": [
        "for i in range(10):\n",
        "  if i>5:\n",
        "    print(i, i**2)"
      ],
      "metadata": {
        "colab": {
          "base_uri": "https://localhost:8080/"
        },
        "id": "QLO2qu93BKkk",
        "outputId": "d595ef30-398e-4aa8-93a9-fb45614156c2"
      },
      "execution_count": null,
      "outputs": [
        {
          "output_type": "stream",
          "name": "stdout",
          "text": [
            "6 36\n",
            "7 49\n",
            "8 64\n",
            "9 81\n"
          ]
        }
      ]
    },
    {
      "cell_type": "markdown",
      "source": [
        "#For plotting use matplotlib\n",
        "For plotting always first import matplotlib with import matplotlib.pyplot as plt\n"
      ],
      "metadata": {
        "id": "ChtuLaRoZTRD"
      }
    },
    {
      "cell_type": "markdown",
      "source": [
        "plt.scatter is for plot x and y plot as scattering. More examples: https://matplotlib.org/stable/gallery/index.html"
      ],
      "metadata": {
        "id": "T8_RZO4Hd9dp"
      }
    },
    {
      "cell_type": "code",
      "source": [
        "import matplotlib.pyplot as plt\n",
        "plt.scatter(data, data_experiment)"
      ],
      "metadata": {
        "id": "kuGQKGZ9M5LU"
      },
      "execution_count": null,
      "outputs": []
    },
    {
      "cell_type": "markdown",
      "source": [
        "to add axis labels, title add .xlabel( and .ylabel( and .title("
      ],
      "metadata": {
        "id": "pyEdRNvYb3rA"
      }
    },
    {
      "cell_type": "code",
      "source": [
        "\n",
        "plt.scatter(data, data_experiment)\n",
        "plt.xlabel('x label')\n",
        "plt.ylabel('y label')\n",
        "plt.title('title')"
      ],
      "metadata": {
        "id": "iP4VVGcecAoK"
      },
      "execution_count": null,
      "outputs": []
    },
    {
      "cell_type": "code",
      "source": [],
      "metadata": {
        "id": "5Mqkv1D2cOIO"
      },
      "execution_count": null,
      "outputs": []
    },
    {
      "cell_type": "markdown",
      "source": [
        "to save figure as pdf add savefig, then on left,middle click on file symbol, allows to download that pdf\n",
        "\n"
      ],
      "metadata": {
        "id": "kPu8yu0EcUD4"
      }
    },
    {
      "cell_type": "code",
      "source": [
        "\n",
        "plt.scatter(data, data_experiment)\n",
        "plt.xlabel('x label')\n",
        "plt.ylabel('y label')\n",
        "plt.title('title')\n",
        "plt.savefig('matplotlib-demo.pdf')"
      ],
      "metadata": {
        "id": "_ys9f7apb_BL"
      },
      "execution_count": null,
      "outputs": []
    },
    {
      "cell_type": "markdown",
      "source": [
        "# more statistics in package scipy\n",
        "example pearson correlation"
      ],
      "metadata": {
        "id": "GWrM43CVczQZ"
      }
    },
    {
      "cell_type": "code",
      "source": [
        "from scipy import stats"
      ],
      "metadata": {
        "id": "vNob7iJ1Nbre"
      },
      "execution_count": null,
      "outputs": []
    },
    {
      "cell_type": "code",
      "source": [
        "x = [1, 2, 3]\n",
        "y=[10, 9, 2.5]"
      ],
      "metadata": {
        "id": "tU-GR0EDOxm3"
      },
      "execution_count": null,
      "outputs": []
    },
    {
      "cell_type": "code",
      "source": [
        "res = stats.pearsonr(x, y)"
      ],
      "metadata": {
        "id": "J2qoTKRuOxpP"
      },
      "execution_count": null,
      "outputs": []
    },
    {
      "cell_type": "code",
      "source": [
        "res"
      ],
      "metadata": {
        "id": "8XWogN3-eN-h"
      },
      "execution_count": null,
      "outputs": []
    },
    {
      "cell_type": "markdown",
      "source": [
        "# Functions in python can be defined\n"
      ],
      "metadata": {
        "id": "K0gOP7nLalKk"
      }
    },
    {
      "cell_type": "code",
      "source": [
        "def get_mean_and_std(arr):\n",
        "  mean=numpy.mean(arr)\n",
        "  std=numpy.std(arr)\n",
        "  return mean, std"
      ],
      "metadata": {
        "id": "Ozwulm4nOxuD"
      },
      "execution_count": null,
      "outputs": []
    },
    {
      "cell_type": "markdown",
      "source": [
        "the function can be used to automate several steps"
      ],
      "metadata": {
        "id": "lkfDVPjca0ZB"
      }
    },
    {
      "cell_type": "code",
      "source": [
        "get_mean_and_std(data)"
      ],
      "metadata": {
        "id": "WOgsNyAJOxwD"
      },
      "execution_count": null,
      "outputs": []
    },
    {
      "cell_type": "code",
      "source": [
        "get_mean_and_std(data_experiment)"
      ],
      "metadata": {
        "id": "7VINRJFUK6Sv"
      },
      "execution_count": null,
      "outputs": []
    },
    {
      "cell_type": "code",
      "source": [],
      "metadata": {
        "id": "egsWwy6YbC0U"
      },
      "execution_count": null,
      "outputs": []
    },
    {
      "cell_type": "code",
      "source": [],
      "metadata": {
        "id": "Ux5xExUNbC3V"
      },
      "execution_count": null,
      "outputs": []
    },
    {
      "cell_type": "markdown",
      "source": [
        "#Example for heatmap + hierarchical clustering creation\n",
        "first install custom python package:"
      ],
      "metadata": {
        "id": "9oj5unwvbEIJ"
      }
    },
    {
      "cell_type": "code",
      "source": [
        "! pip install heatmapcluster"
      ],
      "metadata": {
        "id": "fxWae3aoRTfy"
      },
      "execution_count": null,
      "outputs": []
    },
    {
      "cell_type": "markdown",
      "source": [
        "then import"
      ],
      "metadata": {
        "id": "0q3lPa4ybeMI"
      }
    },
    {
      "cell_type": "code",
      "source": [
        "from heatmapcluster import heatmapcluster"
      ],
      "metadata": {
        "id": "lrnCAw0YRTi6"
      },
      "execution_count": null,
      "outputs": []
    },
    {
      "cell_type": "markdown",
      "source": [
        "write data and labels into python"
      ],
      "metadata": {
        "id": "Zv7Xjf2Hbpy6"
      }
    },
    {
      "cell_type": "code",
      "source": [
        "labels_genes=['gene A', 'gene B', 'gene C', 'gene D', 'gene E', 'gene F', 'gene G', 'gene H']\n",
        "labels_conditions=['1% Ethanol', '31 °C', '1mM inhibitor', '5mM inhibitor', 'activator']\n",
        "#normalized to reference condition\n",
        "data_activity=numpy.array([[0.29, 0.2 , 0.25, 0.17, 0.19, 0.15, 0.13, 0.12],\n",
        "       [2.43, 2.87, 1.61, 2.05, 1.23, 1.16, 2.25, 2.41],\n",
        "       [2.4 , 2.69, 1.56, 1.9 , 1.15, 1.15, 2.22, 2.28],\n",
        "       [1.99, 2.34, 1.2 , 1.69, 0.07, 0.93, 1.11, 0.95],\n",
        "       [2.81, 3.43, 1.81, 2.3 , 1.53, 2.04, 3.12, 3.25]])"
      ],
      "metadata": {
        "id": "WsqNX9VzR2-l"
      },
      "execution_count": null,
      "outputs": []
    },
    {
      "cell_type": "markdown",
      "source": [
        "Run function with takes as parameters data, labels and couple optional parameters (described at https://github.com/WarrenWeckesser/heatmapcluster). The png can be downloaded."
      ],
      "metadata": {
        "id": "UIRZVfr4dLpA"
      }
    },
    {
      "cell_type": "code",
      "source": [
        "h = heatmapcluster(data_activity, labels_conditions, labels_genes,\n",
        "                   num_row_clusters=3, num_col_clusters=3, colorbar_pad=1.5,\n",
        "                   label_fontsize=10,\n",
        "                   xlabel_rotation=90,\n",
        "                   cmap='bwr',\n",
        "                   show_colorbar=True,\n",
        "                   top_dendrogram=True,\n",
        "                   figsize=(6,4),\n",
        "                   )\n",
        "plt.savefig('heatmap-result.png', dpi=200)"
      ],
      "metadata": {
        "id": "1YPZO2brb00L"
      },
      "execution_count": null,
      "outputs": []
    }
  ]
}