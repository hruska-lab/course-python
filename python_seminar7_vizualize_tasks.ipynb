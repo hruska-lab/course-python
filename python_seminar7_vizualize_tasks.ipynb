{
  "cells": [
    {
      "cell_type": "markdown",
      "metadata": {
        "id": "view-in-github",
        "colab_type": "text"
      },
      "source": [
        "<a href=\"https://colab.research.google.com/github/hruska-lab/course-python/blob/main/python_seminar7_vizualize_tasks.ipynb\" target=\"_parent\"><img src=\"https://colab.research.google.com/assets/colab-badge.svg\" alt=\"Open In Colab\"/></a>"
      ]
    },
    {
      "cell_type": "markdown",
      "metadata": {
        "id": "21XKQI-pegY6"
      },
      "source": [
        "# Visualizing small molecules\n",
        " * [RDkit](http://rdkit.org/docs/Cookbook.html)\n",
        "\n"
      ]
    },
    {
      "cell_type": "code",
      "source": [
        "#install with pip install\n",
        "! pip install rdkit"
      ],
      "metadata": {
        "id": "dvHE8S-h7iPw"
      },
      "execution_count": null,
      "outputs": []
    },
    {
      "cell_type": "code",
      "source": [
        "from rdkit import Chem\n",
        "from rdkit.Chem import AllChem, rdDepictor\n",
        "from rdkit.Chem.Draw import IPythonConsole"
      ],
      "metadata": {
        "id": "W_MybU9-RsLX"
      },
      "execution_count": null,
      "outputs": []
    },
    {
      "cell_type": "markdown",
      "source": [
        "With [PUBChem](https://pubchem.ncbi.nlm.nih.gov/) find SMILES for caffeine, copy into below function. Definition of SMILES [here](https://chem.libretexts.org/Courses/Fordham_University/Chem1102%3A_Drug_Discovery_-_From_the_Laboratory_to_the_Clinic/05%3A_Organic_Molecules/5.08%3A_Line_Notation_(SMILES_and_InChI))."
      ],
      "metadata": {
        "id": "Zkpdrd-nRSoq"
      }
    },
    {
      "cell_type": "code",
      "source": [
        "mol_caffeine = Chem.MolFromSmiles(    TODO )\n",
        "mol_caffeine"
      ],
      "metadata": {
        "id": "aQ5k_wS-RJXs"
      },
      "execution_count": null,
      "outputs": []
    },
    {
      "cell_type": "markdown",
      "source": [
        "# save as image"
      ],
      "metadata": {
        "id": "8AsNDVYoRwmp"
      }
    },
    {
      "cell_type": "code",
      "source": [
        "Chem.Draw.MolToFile(mol_caffeine, 'caffeine-2D.png')"
      ],
      "metadata": {
        "id": "JljVIM1ORwHK"
      },
      "execution_count": null,
      "outputs": []
    },
    {
      "cell_type": "code",
      "source": [],
      "metadata": {
        "id": "Hx6jPZPfaZW3"
      },
      "execution_count": null,
      "outputs": []
    },
    {
      "cell_type": "markdown",
      "source": [],
      "metadata": {
        "id": "XHk_sQEGaZxU"
      }
    },
    {
      "cell_type": "markdown",
      "source": [
        "# chiral molecules"
      ],
      "metadata": {
        "id": "oNMQpj8baZ2c"
      }
    },
    {
      "cell_type": "code",
      "source": [
        "\n",
        "m = Chem.MolFromSmiles('OC[C@H]1OC=C[C@@H](O)[C@@H]1O') # CHEMBL2115567\n",
        "m"
      ],
      "metadata": {
        "id": "ELo5HblhTOqi"
      },
      "execution_count": null,
      "outputs": []
    },
    {
      "cell_type": "code",
      "source": [
        "# change default to add (S) (R) labels\n",
        "IPythonConsole.drawOptions.addStereoAnnotation = True\n"
      ],
      "metadata": {
        "id": "3GEa1Llnagwa"
      },
      "execution_count": null,
      "outputs": []
    },
    {
      "cell_type": "code",
      "source": [
        "m = Chem.MolFromSmiles('OC[C@H]1OC=C[C@@H](O)[C@@H]1O') # CHEMBL2115567\n",
        "m"
      ],
      "metadata": {
        "id": "m-DeqABYalC0"
      },
      "execution_count": null,
      "outputs": []
    },
    {
      "cell_type": "code",
      "source": [],
      "metadata": {
        "id": "QLTK-9fUan7Y"
      },
      "execution_count": null,
      "outputs": []
    },
    {
      "cell_type": "markdown",
      "source": [
        "# RDKit allows to label atoms, bonds, etc\n",
        "* change default IPythonConsole.drawOptions.addAtomIndices = True/False\n",
        "* individual with `mol.GetAtomWithIdx(idx).SetProp( 'molAtomMapNumber', string)`\n",
        "* or `mol.GetAtomWithIdx(idx).SetProp( 'atomNote', string)`\n",
        " Add number \"1\" to atom number 1"
      ],
      "metadata": {
        "id": "aeL79JMtTS_J"
      }
    },
    {
      "cell_type": "code",
      "source": [
        "IPythonConsole.drawOptions.addAtomIndices = True\n",
        "IPythonConsole.drawOptions.annotationFontScale = 0.9\n",
        "IPythonConsole.molSize = 300,300\n",
        "#IPythonConsole.drawOptions.useBWAtomPalette()\n",
        "Chem.MolFromSmiles(\"CN1C=NC2=C1C(=O)N(C(=O)N2C)C\")\n"
      ],
      "metadata": {
        "id": "tK3E2Lqcaq6y"
      },
      "execution_count": null,
      "outputs": []
    },
    {
      "cell_type": "code",
      "source": [
        "IPythonConsole.drawOptions.addAtomIndices = False"
      ],
      "metadata": {
        "id": "jUd9HRnVay9F"
      },
      "execution_count": null,
      "outputs": []
    },
    {
      "cell_type": "code",
      "source": [],
      "metadata": {
        "id": "pArVYdd3aozL"
      },
      "execution_count": null,
      "outputs": []
    },
    {
      "cell_type": "code",
      "source": [
        "mol = Chem.MolFromSmiles(\"CN1C=NC2=C1C(=O)N(C(=O)N2C)C\")\n",
        "mol.GetAtomWithIdx(1).SetProp( 'molAtomMapNumber', \"1\")\n",
        "mol"
      ],
      "metadata": {
        "id": "kTaXqgHoUBmz"
      },
      "execution_count": null,
      "outputs": []
    },
    {
      "cell_type": "markdown",
      "source": [
        "# number N atoms in caffeine"
      ],
      "metadata": {
        "id": "jr1qZ1GOYEoC"
      }
    },
    {
      "cell_type": "code",
      "source": [
        "mol = Chem.MolFromSmiles(\"CN1C=NC2=C1C(=O)N(C(=O)N2C)C\")\n",
        "idx_N=1\n",
        "for idx in range(mol.GetNumAtoms()):\n",
        "  if mol.GetAtomWithIdx(idx).GetSymbol()=='N':\n",
        "        mol.GetAtomWithIdx( idx ).SetProp( 'molAtomMapNumber', str(idx_N))\n",
        "        idx_N=idx_N+1\n",
        "\n",
        "mol"
      ],
      "metadata": {
        "id": "HJTnidsrTjSJ"
      },
      "execution_count": null,
      "outputs": []
    },
    {
      "cell_type": "code",
      "source": [],
      "metadata": {
        "id": "Aadwtni8UmYi"
      },
      "execution_count": null,
      "outputs": []
    },
    {
      "cell_type": "markdown",
      "source": [
        "# highlight patterns with SMARTS\n",
        "* defined by SMARTS as parts of SMILES\n",
        "* find all ester groups (SMARTS 'C(=O)Oc') in Aspirin with SMILES 'c1cc(C(=O)O)c(OC(=O)C)cc1'\n",
        "\n",
        "* output gives the atom numbers\n"
      ],
      "metadata": {
        "id": "J9uukO9NUnrC"
      }
    },
    {
      "cell_type": "code",
      "source": [
        "\n",
        "m = Chem.MolFromSmiles(    TODO SMILES)\n",
        "substructure = Chem.MolFromSmarts(    TODO SMART )\n",
        "matches=m.GetSubstructMatches(substructure)\n",
        "\n",
        "m"
      ],
      "metadata": {
        "id": "1u7aqHC6V91i"
      },
      "execution_count": null,
      "outputs": []
    },
    {
      "cell_type": "code",
      "source": [
        "print(matches)"
      ],
      "metadata": {
        "id": "xxW27z-9Xyvp"
      },
      "execution_count": null,
      "outputs": []
    },
    {
      "cell_type": "markdown",
      "source": [
        "# RDkit allow to edit molecule\n",
        " * add hydrogens (explicit) to caffeine molecule with function Chem.AddHs(mol)"
      ],
      "metadata": {
        "id": "SxKAxVE2Sa9Z"
      }
    },
    {
      "cell_type": "code",
      "source": [
        "mol_caffeine_withHs = Chem.AddHs(mol_caffeine)\n",
        "mol_caffeine_withHs"
      ],
      "metadata": {
        "id": "mkl1kh8mSW7n"
      },
      "execution_count": null,
      "outputs": []
    },
    {
      "cell_type": "markdown",
      "source": [
        "# get information on atoms, bonds"
      ],
      "metadata": {
        "id": "pRq1EAogYskN"
      }
    },
    {
      "cell_type": "code",
      "source": [
        "atom=mol_caffeine_withHs.GetAtomWithIdx(1)\n",
        "\n",
        "print(atom.GetSymbol())\n",
        "print(atom.GetTotalDegree()) #Get number of bonded atoms\n",
        "print(atom.GetHybridization())"
      ],
      "metadata": {
        "id": "lO-O44vkYqPl"
      },
      "execution_count": null,
      "outputs": []
    },
    {
      "cell_type": "code",
      "source": [],
      "metadata": {
        "id": "THjy_nvJZLsQ"
      },
      "execution_count": null,
      "outputs": []
    },
    {
      "cell_type": "markdown",
      "source": [
        "# extract scaffold\n",
        "* insert SMILES of Aspirin"
      ],
      "metadata": {
        "id": "tn7LEQjiY74G"
      }
    },
    {
      "cell_type": "code",
      "source": [
        "from rdkit.Chem.Scaffolds import MurckoScaffold\n",
        "\n",
        "#Get Murcko Scaffold from a mol object\n",
        "m = Chem.MolFromSmiles(  TODO SMILES Caffeine)\n",
        "m_scaffold = MurckoScaffold.GetScaffoldForMol(m)"
      ],
      "metadata": {
        "id": "sAp8bQ1vR7Ce"
      },
      "execution_count": null,
      "outputs": []
    },
    {
      "cell_type": "code",
      "source": [
        "grid = Chem.Draw.MolsToGridImage( [m, m_scaffold], legends=['Aspirin', 'Scaffold'])\n",
        "grid"
      ],
      "metadata": {
        "id": "ZYrNs9wFZPck"
      },
      "execution_count": null,
      "outputs": []
    },
    {
      "cell_type": "markdown",
      "source": [
        "# view in 3D diclofenac"
      ],
      "metadata": {
        "id": "MvHN50CjR4Pq"
      }
    },
    {
      "cell_type": "code",
      "source": [
        "mol = Chem.MolFromSmiles(   TODO )\n",
        "mol=Chem.AddHs(mol)\n",
        "Chem.AllChem.EmbedMolecule(mol)\n",
        "Chem.AllChem.MMFFOptimizeMolecule(mol)\n",
        "mol"
      ],
      "metadata": {
        "id": "TYYH6PO1R7A1"
      },
      "execution_count": null,
      "outputs": []
    },
    {
      "cell_type": "markdown",
      "source": [
        "\n",
        "* more like Dummies for R-groups [here](https://greglandrum.github.io/rdkit-blog/posts/2023-05-26-drawing-options-explained.html)"
      ],
      "metadata": {
        "id": "nJbeKYJGcRab"
      }
    },
    {
      "cell_type": "markdown",
      "source": [
        "# Visualizing 3D\n",
        " * [py3DMol](https://3dmol.csb.pitt.edu/) for visualizing the molecule"
      ],
      "metadata": {
        "id": "be409O-H8x5W"
      }
    },
    {
      "cell_type": "code",
      "source": [
        "!pip install py3Dmol"
      ],
      "metadata": {
        "id": "2RR7PIoWffg0"
      },
      "execution_count": null,
      "outputs": []
    },
    {
      "cell_type": "code",
      "source": [
        "\n",
        "import py3Dmol"
      ],
      "metadata": {
        "id": "kZP1sZ_xQ8MK"
      },
      "execution_count": null,
      "outputs": []
    },
    {
      "cell_type": "markdown",
      "source": [
        "download automatically pdb structure of Human Microsomal P450 3A4 (1TQN) like:\n",
        "\n",
        "```\n",
        "!wget http://www.rcsb.org/pdb/files/XXXX.pdb.gz\n",
        "!gunzip XXXX.pdb.gz\n",
        "\n",
        "```\n",
        "\n"
      ],
      "metadata": {
        "id": "yehdvzKMf1E6"
      }
    },
    {
      "cell_type": "code",
      "source": [
        "# change xxxx.pdb\n",
        "view = py3Dmol.view()\n",
        "view.addModel(open('1TQN.pdb', 'r').read(),'pdb')\n",
        "view.zoomTo()\n",
        "view.show()"
      ],
      "metadata": {
        "id": "Sj78N_YUfyjE"
      },
      "execution_count": null,
      "outputs": []
    },
    {
      "cell_type": "code",
      "source": [
        "# change of style\n",
        "\n",
        "view = py3Dmol.view()\n",
        "view.addModel(open('1TQN.pdb', 'r').read(),'pdb')\n",
        "view.setStyle({'stick': {}})\n",
        "view.zoomTo()\n",
        "view.show()"
      ],
      "metadata": {
        "id": "uxo87-JdgVwT"
      },
      "execution_count": null,
      "outputs": []
    },
    {
      "cell_type": "code",
      "source": [],
      "metadata": {
        "id": "UtY3OEqli6PH"
      },
      "execution_count": null,
      "outputs": []
    },
    {
      "cell_type": "markdown",
      "source": [
        "Change view mouse, while pression mouse buttom, scroll\n",
        "\n"
      ],
      "metadata": {
        "id": "j2sfQo78i61B"
      }
    },
    {
      "cell_type": "markdown",
      "source": [
        "# py3DMol has\n",
        "many options, examples:\n",
        "* https://william-dawson.github.io/using-py3dmol.html\n",
        "* https://github.com/pb3lab/ibm3202/blob/master/tutorials/lab02_molviz.ipynb"
      ],
      "metadata": {
        "id": "aWu90f45gWS7"
      }
    }
  ],
  "metadata": {
    "colab": {
      "provenance": [],
      "include_colab_link": true
    },
    "kernelspec": {
      "display_name": "Python 3 (ipykernel)",
      "language": "python",
      "name": "python3"
    },
    "language_info": {
      "codemirror_mode": {
        "name": "ipython",
        "version": 3
      },
      "file_extension": ".py",
      "mimetype": "text/x-python",
      "name": "python",
      "nbconvert_exporter": "python",
      "pygments_lexer": "ipython3"
    }
  },
  "nbformat": 4,
  "nbformat_minor": 0
}